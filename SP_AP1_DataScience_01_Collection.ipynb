{
 "cells": [
  {
   "cell_type": "markdown",
   "metadata": {},
   "source": [
    "# Bibliotheken\n"
   ]
  },
  {
   "cell_type": "code",
   "execution_count": null,
   "metadata": {},
   "outputs": [
    {
     "name": "stderr",
     "output_type": "stream",
     "text": [
      "[*********************100%***********************]  1 of 1 completed\n",
      "[*********************100%***********************]  1 of 1 completed\n"
     ]
    },
    {
     "name": "stdout",
     "output_type": "stream",
     "text": [
      "Daten für AAPL erfolgreich in financial_data\\AAPL_stocks_data.csv gespeichert.\n",
      "Daten für MSFT erfolgreich in financial_data\\MSFT_stocks_data.csv gespeichert.\n"
     ]
    },
    {
     "name": "stderr",
     "output_type": "stream",
     "text": [
      "[*********************100%***********************]  1 of 1 completed\n",
      "[*********************100%***********************]  1 of 1 completed\n"
     ]
    },
    {
     "name": "stdout",
     "output_type": "stream",
     "text": [
      "Daten für GOOG erfolgreich in financial_data\\GOOG_stocks_data.csv gespeichert.\n",
      "Daten für ACWI erfolgreich in financial_data\\ACWI_etfs_data.csv gespeichert.\n"
     ]
    },
    {
     "name": "stderr",
     "output_type": "stream",
     "text": [
      "[*********************100%***********************]  1 of 1 completed\n",
      "[*********************100%***********************]  1 of 1 completed\n",
      "[*********************100%***********************]  1 of 1 completed"
     ]
    },
    {
     "name": "stdout",
     "output_type": "stream",
     "text": [
      "Daten für SPY erfolgreich in financial_data\\SPY_etfs_data.csv gespeichert.\n",
      "Daten für ^GSPC erfolgreich in financial_data\\^GSPC_indices_data.csv gespeichert.\n",
      "Daten für ^DJI erfolgreich in financial_data\\^DJI_indices_data.csv gespeichert.\n"
     ]
    },
    {
     "name": "stderr",
     "output_type": "stream",
     "text": [
      "\n"
     ]
    }
   ],
   "source": [
    "# SP_AP1_DataScience_01_Collection.ipynb\n",
    "import yfinance as yf  # Importiert die yfinance Bibliothek, die zum Herunterladen von Finanzdaten von Yahoo Finance verwendet wird.\n",
    "import os  # Importiert das os Modul, das Funktionen zur Interaktion mit dem Betriebssystem bereitstellt, z. B. zum Erstellen von Ordnern.\n",
    "\n",
    "# Ordner erstellen, falls er nicht existiert\n",
    "output_folder = \"financial_data\"  # Definiert den Namen des Ordners, in dem die heruntergeladenen Daten gespeichert werden sollen.\n",
    "os.makedirs(output_folder, exist_ok=True)  # Erstellt den Ordner, falls er noch nicht existiert. 'exist_ok=True' verhindert einen Fehler, wenn der Ordner bereits vorhanden ist.\n",
    "\n",
    "# Definiert ein Dictionary mit verschiedenen Anlageklassen (Aktien, ETFs, Indizes) und deren Tickersymbolen.\n",
    "# Hinweis: Der Kommentar im Originalcode deutet darauf hin, dass diese Liste später auf jeweils 1 Aktie, ETF und Index begrenzt werden soll.\n",
    "# Die Idee ist, einen Vergleich zwischen der ausgewählten Aktie und repräsentativen ETFs und Indizes zu ermöglichen.\n",
    "tickers = {\n",
    "    \"Stocks\": [\"AAPL\", \"MSFT\", \"GOOG\"],   # Liste der Tickersymbole für Aktien (Apple, Microsoft, Google).\n",
    "    \"ETFs\": [\"ACWI\", \"SPY\"],              # Liste der Tickersymbole für ETFs (iShares MSCI ACWI ETF, SPDR S&P 500 ETF Trust).\n",
    "    \"Indices\": [\"^GSPC\", \"^DJI\"],          # Liste der Tickersymbole für Indizes (S&P 500, Dow Jones Industrial Average).\n",
    "}\n",
    "\n",
    "start_date = \"2022-01-01\"  # Definiert das Startdatum für den Zeitraum der herunterzuladenden Daten.\n",
    "end_date = \"2025-03-01\"    # Definiert das Enddatum für den Zeitraum der herunterzuladenden Daten.\n",
    "\n",
    "# Schleife durch die verschiedenen Anlageklassen im 'tickers' Dictionary.\n",
    "for asset_type, ticker_list in tickers.items():\n",
    "    # Schleife durch die Liste der Tickersymbole für die aktuelle Anlageklasse.\n",
    "    for ticker in ticker_list:\n",
    "        try:\n",
    "            # Versucht, die historischen Finanzdaten für das aktuelle Tickersymbol herunterzuladen.\n",
    "            # 'yf.download()' lädt Daten von Yahoo Finance für das angegebene Tickersymbol, Start- und Enddatum herunter.\n",
    "            data = yf.download(ticker, start=start_date, end=end_date)\n",
    "            # Überprüft, ob die heruntergeladenen Daten leer sind.\n",
    "            if data.empty:\n",
    "                print(f\"Keine Daten für {ticker} gefunden.\")\n",
    "            else:\n",
    "                # Setzt den Index des DataFrames zurück, wodurch das Datum zu einer regulären Spalte wird.\n",
    "                data = data.reset_index()\n",
    "                # Benennt die Spalte, die das ursprüngliche Index (Datum) enthielt, in \"Date\" um.\n",
    "                # Dies ist optional und kann je nach gewünschter Datenstruktur angepasst werden.\n",
    "                # filename = f\"{ticker}_{asset_type.lower()}_data.csv\" # Originalzeile\n",
    "                filename = f\"{ticker}_{asset_type.lower()}_data.csv\" # Erstellt den Dateinamen für die CSV-Datei.\n",
    "                # Erstellt den vollständigen Pfad zur Ausgabedatei, indem der Ausgabeordner und der Dateiname kombiniert werden.\n",
    "                filepath = os.path.join(output_folder, filename)\n",
    "                # Speichert den DataFrame in einer CSV-Datei. 'index=False' verhindert, dass der DataFrame-Index in die CSV-Datei geschrieben wird.\n",
    "                data.to_csv(filepath, index=False)\n",
    "                # Gibt eine Erfolgsmeldung aus, die angibt, für welches Tickersymbol die Daten erfolgreich gespeichert wurden und wo.\n",
    "                print(f\"Daten für {ticker} erfolgreich in {filepath} gespeichert.\")\n",
    "        # Fängt alle Ausnahmen ab, die während des Herunterladens der Daten auftreten können (z. B. Netzwerkprobleme, ungültiges Tickersymbol).\n",
    "        except Exception as e:\n",
    "            # Gibt eine Fehlermeldung aus, die das Tickersymbol und die aufgetretene Ausnahme enthält.\n",
    "            print(f\"Fehler beim Herunterladen von {ticker}: {e}\")"
   ]
  }
 ],
 "metadata": {
  "kernelspec": {
   "display_name": "base",
   "language": "python",
   "name": "python3"
  },
  "language_info": {
   "codemirror_mode": {
    "name": "ipython",
    "version": 3
   },
   "file_extension": ".py",
   "mimetype": "text/x-python",
   "name": "python",
   "nbconvert_exporter": "python",
   "pygments_lexer": "ipython3",
   "version": "3.12.3"
  }
 },
 "nbformat": 4,
 "nbformat_minor": 2
}
