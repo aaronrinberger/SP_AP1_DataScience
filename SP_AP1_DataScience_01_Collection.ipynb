{
 "cells": [
  {
   "cell_type": "markdown",
   "metadata": {},
   "source": [
    "# Bibliotheken\n"
   ]
  },
  {
   "cell_type": "code",
   "execution_count": null,
   "metadata": {},
   "outputs": [
    {
     "name": "stderr",
     "output_type": "stream",
     "text": [
      "[*********************100%***********************]  1 of 1 completed\n",
      "[*********************100%***********************]  1 of 1 completed\n",
      "[*********************100%***********************]  1 of 1 completed"
     ]
    },
    {
     "name": "stdout",
     "output_type": "stream",
     "text": [
      "Daten für AAPL erfolgreich in financial_data\\stock_historical_data.csv gespeichert.\n",
      "Daten für ACWI erfolgreich in financial_data\\etf_historical_data.csv gespeichert.\n",
      "Daten für ^GSPC erfolgreich in financial_data\\index_historical_data.csv gespeichert.\n"
     ]
    },
    {
     "name": "stderr",
     "output_type": "stream",
     "text": [
      "\n"
     ]
    }
   ],
   "source": [
    "# SP_AP1_DataScience_01_Collection.ipynb\n",
    "import yfinance as yf\n",
    "import os\n",
    "\n",
    "# Ordner erstellen, falls er nicht existiert\n",
    "output_folder = \"financial_data\"\n",
    "os.makedirs(output_folder, exist_ok=True)\n",
    "\n",
    "tickers = {\n",
    "    \"Stocks\": [\"AAPL\", \"MSFT\", \"GOOG\"],\n",
    "    \"ETFs\": [\"ACWI\", \"SPY\"],\n",
    "    \"Indices\": [\"^GSPC\", \"^DJI\"],\n",
    "}\n",
    "\n",
    "start_date = \"2024-01-01\"\n",
    "end_date = \"2024-11-18\"\n",
    "\n",
    "for asset_type, ticker_list in tickers.items():\n",
    "    for ticker in ticker_list:\n",
    "        try:\n",
    "            data = yf.download(ticker, start=start_date, end=end_date)\n",
    "            if data.empty:\n",
    "                print(f\"Keine Daten für {ticker} gefunden.\")\n",
    "            else:\n",
    "                # Index zurücksetzen und \"Date\" als Spaltennamen verwenden\n",
    "                data = data.reset_index()\n",
    "                filename = f\"{ticker}_{asset_type.lower()}_data.csv\"\n",
    "                filepath = os.path.join(output_folder, filename)\n",
    "                data.to_csv(filepath, index=False)\n",
    "                print(f\"Daten für {ticker} erfolgreich in {filepath} gespeichert.\")\n",
    "        except Exception as e:\n",
    "            print(f\"Fehler beim Herunterladen von {ticker}: {e}\")"
   ]
  }
 ],
 "metadata": {
  "kernelspec": {
   "display_name": "Python 3",
   "language": "python",
   "name": "python3"
  },
  "language_info": {
   "codemirror_mode": {
    "name": "ipython",
    "version": 3
   },
   "file_extension": ".py",
   "mimetype": "text/x-python",
   "name": "python",
   "nbconvert_exporter": "python",
   "pygments_lexer": "ipython3",
   "version": "3.12.7"
  }
 },
 "nbformat": 4,
 "nbformat_minor": 2
}
