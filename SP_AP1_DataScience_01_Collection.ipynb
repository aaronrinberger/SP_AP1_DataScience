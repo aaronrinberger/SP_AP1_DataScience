{
 "cells": [
  {
   "cell_type": "markdown",
   "metadata": {},
   "source": [
    "# Bibliotheken\n"
   ]
  },
  {
   "cell_type": "code",
   "execution_count": 5,
   "metadata": {},
   "outputs": [
    {
     "name": "stderr",
     "output_type": "stream",
     "text": [
      "[*********************100%***********************]  1 of 1 completed\n",
      "[*********************100%***********************]  1 of 1 completed\n"
     ]
    },
    {
     "name": "stdout",
     "output_type": "stream",
     "text": [
      "Daten für AAPL erfolgreich in financial_data\\AAPL_stocks_data.csv gespeichert.\n",
      "Daten für MSFT erfolgreich in financial_data\\MSFT_stocks_data.csv gespeichert.\n"
     ]
    },
    {
     "name": "stderr",
     "output_type": "stream",
     "text": [
      "[*********************100%***********************]  1 of 1 completed\n",
      "[*********************100%***********************]  1 of 1 completed\n"
     ]
    },
    {
     "name": "stdout",
     "output_type": "stream",
     "text": [
      "Daten für GOOG erfolgreich in financial_data\\GOOG_stocks_data.csv gespeichert.\n",
      "Daten für ACWI erfolgreich in financial_data\\ACWI_etfs_data.csv gespeichert.\n"
     ]
    },
    {
     "name": "stderr",
     "output_type": "stream",
     "text": [
      "[*********************100%***********************]  1 of 1 completed\n",
      "[*********************100%***********************]  1 of 1 completed\n",
      "[*********************100%***********************]  1 of 1 completed"
     ]
    },
    {
     "name": "stdout",
     "output_type": "stream",
     "text": [
      "Daten für SPY erfolgreich in financial_data\\SPY_etfs_data.csv gespeichert.\n",
      "Daten für ^GSPC erfolgreich in financial_data\\^GSPC_indices_data.csv gespeichert.\n",
      "Daten für ^DJI erfolgreich in financial_data\\^DJI_indices_data.csv gespeichert.\n"
     ]
    },
    {
     "name": "stderr",
     "output_type": "stream",
     "text": [
      "\n"
     ]
    }
   ],
   "source": [
    "# SP_AP1_DataScience_01_Collection.ipynb\n",
    "import yfinance as yf\n",
    "import os\n",
    "\n",
    "# Ordner erstellen, falls er nicht existiert\n",
    "output_folder = \"financial_data\"\n",
    "os.makedirs(output_folder, exist_ok=True)\n",
    "\n",
    "tickers = {\n",
    "    \"Stocks\": [\"AAPL\", \"MSFT\", \"GOOG\"],   #Am Ende hier auf jeweils 1 Aktie, ETF, Index begrenzen und ETF und Index als Vergleichsoperatoren heranziehen wenn mehrere Aktien ausgewählt sind. \n",
    "    \"ETFs\": [\"ACWI\", \"SPY\"],\n",
    "    \"Indices\": [\"^GSPC\", \"^DJI\"],\n",
    "}\n",
    "\n",
    "start_date = \"2022-01-01\"\n",
    "end_date = \"2025-03-01\"\n",
    "\n",
    "for asset_type, ticker_list in tickers.items():\n",
    "    for ticker in ticker_list:\n",
    "        try:\n",
    "            data = yf.download(ticker, start=start_date, end=end_date)\n",
    "            if data.empty:\n",
    "                print(f\"Keine Daten für {ticker} gefunden.\")\n",
    "            else:\n",
    "                # Index zurücksetzen und \"Date\" als Spaltennamen verwenden\n",
    "                data = data.reset_index()\n",
    "                filename = f\"{ticker}_{asset_type.lower()}_data.csv\"\n",
    "                filepath = os.path.join(output_folder, filename)\n",
    "                data.to_csv(filepath, index=False)\n",
    "                print(f\"Daten für {ticker} erfolgreich in {filepath} gespeichert.\")\n",
    "        except Exception as e:\n",
    "            print(f\"Fehler beim Herunterladen von {ticker}: {e}\")"
   ]
  }
 ],
 "metadata": {
  "kernelspec": {
   "display_name": "base",
   "language": "python",
   "name": "python3"
  },
  "language_info": {
   "codemirror_mode": {
    "name": "ipython",
    "version": 3
   },
   "file_extension": ".py",
   "mimetype": "text/x-python",
   "name": "python",
   "nbconvert_exporter": "python",
   "pygments_lexer": "ipython3",
   "version": "3.12.7"
  }
 },
 "nbformat": 4,
 "nbformat_minor": 2
}
